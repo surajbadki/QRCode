{
 "cells": [
  {
   "cell_type": "code",
   "execution_count": 1,
   "id": "3b4cd970",
   "metadata": {},
   "outputs": [
    {
     "name": "stdout",
     "output_type": "stream",
     "text": [
      "Collecting pyqrcode\n",
      "  Using cached PyQRCode-1.2.1-py3-none-any.whl\n",
      "Installing collected packages: pyqrcode\n",
      "Successfully installed pyqrcode-1.2.1\n",
      "Collecting pypng\n",
      "  Using cached pypng-0.20220715.0-py3-none-any.whl (58 kB)\n",
      "Installing collected packages: pypng\n",
      "Successfully installed pypng-0.20220715.0\n"
     ]
    }
   ],
   "source": [
    "!pip install pyqrcode\n",
    "!pip install pypng"
   ]
  },
  {
   "cell_type": "code",
   "execution_count": 2,
   "id": "44fd4342",
   "metadata": {},
   "outputs": [],
   "source": [
    "#import QRCode from pyqrcode\n",
    "import pyqrcode\n",
    "import png\n",
    "from pyqrcode import QRCode"
   ]
  },
  {
   "cell_type": "code",
   "execution_count": 3,
   "id": "ed4fb4c6",
   "metadata": {},
   "outputs": [],
   "source": [
    "#string which represent the QR code\n",
    "s=\"www.geeksforgeeks.org\""
   ]
  },
  {
   "cell_type": "code",
   "execution_count": 4,
   "id": "2df5cc0e",
   "metadata": {},
   "outputs": [],
   "source": [
    "#generate QR code\n",
    "url= pyqrcode.create(s)"
   ]
  },
  {
   "cell_type": "code",
   "execution_count": 5,
   "id": "4e7d7182",
   "metadata": {},
   "outputs": [],
   "source": [
    "#create and save the svg file naming \"myqr.svg\"\n",
    "url.svg(\"myqr.svg\",scale=8)"
   ]
  },
  {
   "cell_type": "code",
   "execution_count": 6,
   "id": "0a6f06c5",
   "metadata": {},
   "outputs": [],
   "source": [
    "#create and save the png file naming \"myqr.png\"\n",
    "url.png('myqr.png',scale=6)"
   ]
  },
  {
   "cell_type": "code",
   "execution_count": null,
   "id": "61c30127",
   "metadata": {},
   "outputs": [],
   "source": []
  }
 ],
 "metadata": {
  "kernelspec": {
   "display_name": "Python 3 (ipykernel)",
   "language": "python",
   "name": "python3"
  },
  "language_info": {
   "codemirror_mode": {
    "name": "ipython",
    "version": 3
   },
   "file_extension": ".py",
   "mimetype": "text/x-python",
   "name": "python",
   "nbconvert_exporter": "python",
   "pygments_lexer": "ipython3",
   "version": "3.11.3"
  }
 },
 "nbformat": 4,
 "nbformat_minor": 5
}
